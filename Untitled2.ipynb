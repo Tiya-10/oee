{
  "cells": [
    {
      "cell_type": "code",
      "execution_count": null,
      "metadata": {
        "colab": {
          "base_uri": "https://localhost:8080/"
        },
        "id": "5VbW-Z-GsoBy",
        "outputId": "d0739624-20d3-48d0-9c99-bc065b753682"
      },
      "outputs": [
        {
          "name": "stdout",
          "output_type": "stream",
          "text": [
            "Dataset created and saved as synthetic_oee_data_indian_cities_cleaned.csv\n"
          ]
        }
      ],
      "source": [
        "import pandas as pd\n",
        "import random\n",
        "from datetime import datetime, timedelta\n",
        "\n",
        "# Define date range\n",
        "start_date = datetime(2024, 1, 1)\n",
        "end_date = datetime(2025, 1, 1)\n",
        "date_range = pd.date_range(start_date, end_date, freq='D')\n",
        "\n",
        "# Sample Indian cities for device locations\n",
        "locations = [\n",
        "    'Mumbai', 'Delhi', 'Bangalore', 'Hyderabad', 'Chennai',\n",
        "    'Kolkata', 'Ahmedabad', 'Pune', 'Jaipur', 'Lucknow'\n",
        "]\n",
        "\n",
        "# Sample device IDs\n",
        "device_ids = [f\"Device_{i}\" for i in range(1, 11)]\n",
        "\n",
        "# Generate synthetic records\n",
        "data = []\n",
        "for _ in range(1000):\n",
        "    date = random.choice(date_range)\n",
        "    device = random.choice(device_ids)\n",
        "    location = random.choice(locations)\n",
        "\n",
        "    downtime = random.randint(0, 4)  # downtime in hours\n",
        "    operational_hours = 24 - downtime\n",
        "    production_quantity = random.randint(800, 1000)\n",
        "    target_quantity = 1000\n",
        "    quality_issues = random.randint(0, 20)\n",
        "\n",
        "    data.append({\n",
        "        'Date': date.strftime('%Y-%m-%d'),  # formatted to avoid Excel issues\n",
        "        'Device_ID': device,\n",
        "        'Location': location,\n",
        "        'Operational_Hours': operational_hours,\n",
        "        'Production_Quantity': production_quantity,\n",
        "        'Target_Production_Quantity': target_quantity,\n",
        "        'Downtime': downtime,\n",
        "        'Quality_Issues': quality_issues\n",
        "    })\n",
        "\n",
        "# Convert to DataFrame\n",
        "df = pd.DataFrame(data)\n",
        "\n",
        "# Export to CSV\n",
        "csv_filename = \"oee_data.csv\"\n",
        "df.to_csv(csv_filename, index=False)\n",
        "\n",
        "print(f\"Dataset created and saved as {csv_filename}\")\n"
      ]
    },
    {
      "cell_type": "code",
      "execution_count": 3,
      "metadata": {},
      "outputs": [],
      "source": [
        "df['Month'] = pd.to_datetime(df['Date']).dt.month\n",
        "df['Month_Name'] = pd.to_datetime(df['Date']).dt.strftime('%B')\n",
        "df.to_csv(\"oee_data.csv\", index=False)\n",
        "\n"
      ]
    },
    {
      "cell_type": "code",
      "execution_count": 4,
      "metadata": {},
      "outputs": [],
      "source": [
        "numeric_cols = ['Operational_Hours', 'Production_Quantity', 'Target_Production_Quantity', 'Downtime', 'Quality_Issues']\n",
        "df[numeric_cols] = df[numeric_cols].apply(pd.to_numeric, errors='coerce')\n"
      ]
    },
    {
      "cell_type": "code",
      "execution_count": 5,
      "metadata": {},
      "outputs": [],
      "source": [
        "df.dropna(inplace=True) \n",
        "\n"
      ]
    },
    {
      "cell_type": "code",
      "execution_count": 6,
      "metadata": {},
      "outputs": [
        {
          "name": "stdout",
          "output_type": "stream",
          "text": [
            "         Date Device_ID   Location Month_Name\n",
            "0  2024-02-23  Device_6    Chennai   February\n",
            "1  2024-08-11  Device_5      Delhi     August\n",
            "2  2024-10-28  Device_8    Lucknow    October\n",
            "3  2024-01-04  Device_8    Chennai    January\n",
            "4  2024-02-13  Device_6  Hyderabad   February\n"
          ]
        }
      ],
      "source": [
        "print(df[['Date', 'Device_ID', 'Location', 'Month_Name']].head())\n"
      ]
    },
    {
      "cell_type": "code",
      "execution_count": 2,
      "metadata": {},
      "outputs": [],
      "source": [
        "import pandas as pd\n",
        "\n",
        "# Load the CSV\n",
        "df = pd.read_csv(\"oee_data.csv\")\n",
        "df['Availability'] = (df['Operational_Hours'] - df['Downtime']) / df['Operational_Hours']\n",
        "df['Performance'] = df['Production_Quantity'] / df['Target_Production_Quantity']\n",
        "df['Quality'] = (df['Production_Quantity'] - df['Quality_Issues']) / df['Production_Quantity']\n",
        "\n",
        "df['OEE'] = df['Availability'] * df['Performance'] * df['Quality'] * 100\n",
        "df['OEE'] = df['OEE'].round(2)\n",
        "df.to_csv(\"oee_data.csv\", index=False)\n",
        "\n"
      ]
    },
    {
      "cell_type": "code",
      "execution_count": 8,
      "metadata": {},
      "outputs": [],
      "source": [
        "df.dropna(subset=['OEE'], inplace=True)  # Remove rows where OEE couldn't be computed\n"
      ]
    },
    {
      "cell_type": "code",
      "execution_count": 9,
      "metadata": {},
      "outputs": [
        {
          "name": "stdout",
          "output_type": "stream",
          "text": [
            "         Date Device_ID   Location  Operational_Hours  Production_Quantity  \\\n",
            "0  2024-02-23  Device_6    Chennai                 21                  967   \n",
            "1  2024-08-11  Device_5      Delhi                 23                  824   \n",
            "2  2024-10-28  Device_8    Lucknow                 22                  891   \n",
            "3  2024-01-04  Device_8    Chennai                 20                  970   \n",
            "4  2024-02-13  Device_6  Hyderabad                 20                 1000   \n",
            "\n",
            "   Target_Production_Quantity  Downtime  Quality_Issues  Month Month_Name  \\\n",
            "0                        1000         3              11      2   February   \n",
            "1                        1000         1              14      8     August   \n",
            "2                        1000         2              15     10    October   \n",
            "3                        1000         4              10      1    January   \n",
            "4                        1000         4              18      2   February   \n",
            "\n",
            "   Availability  Performance   Quality    OEE  \n",
            "0      0.857143        0.967  0.988625  81.94  \n",
            "1      0.956522        0.824  0.983010  77.48  \n",
            "2      0.909091        0.891  0.983165  79.64  \n",
            "3      0.800000        0.970  0.989691  76.80  \n",
            "4      0.800000        1.000  0.982000  78.56  \n"
          ]
        }
      ],
      "source": [
        "print(df.head())\n"
      ]
    }
  ],
  "metadata": {
    "colab": {
      "provenance": []
    },
    "kernelspec": {
      "display_name": "Python 3",
      "name": "python3"
    },
    "language_info": {
      "codemirror_mode": {
        "name": "ipython",
        "version": 3
      },
      "file_extension": ".py",
      "mimetype": "text/x-python",
      "name": "python",
      "nbconvert_exporter": "python",
      "pygments_lexer": "ipython3",
      "version": "3.12.6"
    }
  },
  "nbformat": 4,
  "nbformat_minor": 0
}
